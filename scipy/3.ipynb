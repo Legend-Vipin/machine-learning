{
 "cells": [
  {
   "cell_type": "markdown",
   "id": "0759c9ad",
   "metadata": {},
   "source": [
    "# Sparse Data"
   ]
  },
  {
   "cell_type": "code",
   "execution_count": 10,
   "id": "da319a27",
   "metadata": {},
   "outputs": [
    {
     "name": "stdout",
     "output_type": "stream",
     "text": [
      "<Compressed Sparse Row sparse matrix of dtype 'int64'\n",
      "\twith 3 stored elements and shape (1, 9)>\n",
      "  Coords\tValues\n",
      "  (0, 5)\t1\n",
      "  (0, 6)\t1\n",
      "  (0, 8)\t2\n"
     ]
    }
   ],
   "source": [
    "# What is sparse data: Sparse data is data that has mostly unused elements. like the elements that dont carry any information.[1,0,2,0,4,5,6,9,2,4]\n",
    "# Sparse data example [1,0,0,2,0,0,0,0,0,0,4]\n",
    "# Dense Array :[2,4,6,8,9,7,1,2,3,6]\n",
    "# How to work with Sparse Data.\n",
    "# scipy has a module scipy.sparse function. there are 2 metrics in this sparse : CSC(Compressed Sparse Column) and CSR(Compressed Sparse Row)\n",
    "# CSR Metrics:here we will create CSR metrics from an array.\n",
    "import numpy as np\n",
    "from scipy.sparse import csr_matrix\n",
    "mat=np.array([0,0,0,0,0,1,1,0,2,])\n",
    "print(csr_matrix(mat))"
   ]
  },
  {
   "cell_type": "code",
   "execution_count": 11,
   "id": "bb75bac2",
   "metadata": {},
   "outputs": [
    {
     "name": "stdout",
     "output_type": "stream",
     "text": [
      "[1 1 2]\n"
     ]
    }
   ],
   "source": [
    "# Sparse matrix Methods \n",
    "import numpy as np\n",
    "from scipy.sparse import csr_matrix\n",
    "mtx= np.array([[0,0,0],[0,0,1],[1,0,2]])\n",
    "print(csr_matrix(mtx).data)"
   ]
  },
  {
   "cell_type": "code",
   "execution_count": 12,
   "id": "1db278d3",
   "metadata": {},
   "outputs": [
    {
     "name": "stdout",
     "output_type": "stream",
     "text": [
      "3\n"
     ]
    }
   ],
   "source": [
    "# what if we wnat to count non zeros,we can do this via count_nonzero() method.\n",
    "import numpy as np\n",
    "from scipy.sparse import csr_matrix\n",
    "mtx= np.array([[0,0,0],[0,0,1],[1,0,2]])\n",
    "print(csr_matrix(mtx).count_nonzero())"
   ]
  },
  {
   "cell_type": "code",
   "execution_count": 13,
   "id": "d8a365c5",
   "metadata": {},
   "outputs": [
    {
     "name": "stdout",
     "output_type": "stream",
     "text": [
      "<Compressed Sparse Row sparse matrix of dtype 'int64'\n",
      "\twith 3 stored elements and shape (3, 3)>\n",
      "  Coords\tValues\n",
      "  (1, 2)\t1\n",
      "  (2, 0)\t1\n",
      "  (2, 2)\t2\n"
     ]
    }
   ],
   "source": [
    "# for removing the zero elements from the matrix we will use eliminate_zeros() method.\n",
    "import numpy as np\n",
    "from scipy.sparse import csr_matrix\n",
    "mtx= np.array([[0,0,0],[0,0,1],[1,0,2]])\n",
    "mtxnew=csr_matrix(mtx)\n",
    "mtxnew.eliminate_zeros()\n",
    "print(mtxnew)"
   ]
  },
  {
   "cell_type": "code",
   "execution_count": 14,
   "id": "77448bb7",
   "metadata": {},
   "outputs": [
    {
     "name": "stdout",
     "output_type": "stream",
     "text": [
      "<Compressed Sparse Row sparse matrix of dtype 'int64'\n",
      "\twith 3 stored elements and shape (3, 3)>\n",
      "  Coords\tValues\n",
      "  (1, 2)\t1\n",
      "  (2, 0)\t1\n",
      "  (2, 2)\t2\n"
     ]
    }
   ],
   "source": [
    "# eliminating duplicate entries with the sum_duplicates() method.\n",
    "import numpy as np\n",
    "from scipy.sparse import csr_matrix\n",
    "mtx= np.array([[0,0,0],[0,0,1],[1,0,2]])\n",
    "mtxnew=csr_matrix(mtx)\n",
    "mtxnew.sum_duplicates()\n",
    "print(mtxnew)"
   ]
  },
  {
   "cell_type": "markdown",
   "id": "2ae6650a",
   "metadata": {},
   "source": [
    "## CSC(Compressed Sparse Column)"
   ]
  },
  {
   "cell_type": "code",
   "execution_count": null,
   "id": "6a552ffc",
   "metadata": {},
   "outputs": [
    {
     "name": "stdout",
     "output_type": "stream",
     "text": [
      "<Compressed Sparse Column sparse matrix of dtype 'int64'\n",
      "\twith 3 stored elements and shape (3, 3)>\n",
      "  Coords\tValues\n",
      "  (2, 0)\t1\n",
      "  (1, 2)\t1\n",
      "  (2, 2)\t2\n"
     ]
    }
   ],
   "source": [
    "# here we will convert csr to csc with the tocsc() method.\n",
    "import numpy as np\n",
    "from scipy.sparse import csr_matrix\n",
    "mtx= np.array([[0,0,0],[0,0,1],[1,0,2]])\n",
    "mtxnew=csr_matrix(mtx)\n",
    "mtxnew=mtxnew.tocsc()\n",
    "print(mtxnew)"
   ]
  },
  {
   "cell_type": "code",
   "execution_count": null,
   "id": "120aea57",
   "metadata": {},
   "outputs": [],
   "source": []
  }
 ],
 "metadata": {
  "kernelspec": {
   "display_name": "myenv",
   "language": "python",
   "name": "python3"
  },
  "language_info": {
   "codemirror_mode": {
    "name": "ipython",
    "version": 3
   },
   "file_extension": ".py",
   "mimetype": "text/x-python",
   "name": "python",
   "nbconvert_exporter": "python",
   "pygments_lexer": "ipython3",
   "version": "3.13.2"
  }
 },
 "nbformat": 4,
 "nbformat_minor": 5
}
