{
 "cells": [
  {
   "cell_type": "markdown",
   "id": "ab6eaf8f",
   "metadata": {},
   "source": [
    "# Scipy Graphs"
   ]
  },
  {
   "cell_type": "code",
   "execution_count": 30,
   "id": "3987fa0d",
   "metadata": {},
   "outputs": [
    {
     "name": "stdout",
     "output_type": "stream",
     "text": [
      "(1, array([0, 0, 0], dtype=int32))\n"
     ]
    }
   ],
   "source": [
    "# working with graphs: we have a module named scipy.sparse.csgraph\n",
    "# adjacency Matrix: nxn matrix,where n is the number of elements in the graph.\n",
    "# Connected Component:\n",
    "import numpy as np\n",
    "from scipy.sparse.csgraph import connected_components\n",
    "from scipy.sparse import csr_matrix\n",
    "\n",
    "mtx=np.array([[0,1,2],[1,0,0],[2,0,0]])\n",
    "mtxnew=csr_matrix(mtx)\n",
    "print(connected_components(mtxnew))"
   ]
  },
  {
   "cell_type": "code",
   "execution_count": 31,
   "id": "9e28a144",
   "metadata": {},
   "outputs": [
    {
     "name": "stdout",
     "output_type": "stream",
     "text": [
      "(array([0., 1., 2.]), array([-9999,     0,     0], dtype=int32))\n"
     ]
    }
   ],
   "source": [
    "# Dijkstra method:For finding shortest path in a graph form one element to another\n",
    "# it take 3 arg: return_predecessors,indices,limit\n",
    "# here we will find to shrtest path from element 1 to 2:\n",
    "import numpy as np\n",
    "from scipy.sparse.csgraph import dijkstra\n",
    "from scipy.sparse import csr_matrix\n",
    "\n",
    "mtx=np.array([[0,1,2],[1,0,0],[2,0,0]])\n",
    "mtxnew=csr_matrix(mtx)\n",
    "print(dijkstra(mtxnew,return_predecessors=True,indices=0))"
   ]
  },
  {
   "cell_type": "code",
   "execution_count": 32,
   "id": "a5ab6d67",
   "metadata": {},
   "outputs": [
    {
     "name": "stdout",
     "output_type": "stream",
     "text": [
      "(array([[0., 1., 2.],\n",
      "       [1., 0., 3.],\n",
      "       [2., 3., 0.]]), array([[-9999,     0,     0],\n",
      "       [    1, -9999,     0],\n",
      "       [    2,     0, -9999]], dtype=int32))\n"
     ]
    }
   ],
   "source": [
    "# Floyd Worshall() method: it is for finding the shortest path between all pairs of elements.\n",
    "import numpy as np\n",
    "from scipy.sparse.csgraph import floyd_warshall\n",
    "from scipy.sparse import csr_matrix\n",
    "\n",
    "mtx=np.array([[0,1,2],[1,0,0],[2,0,0]])\n",
    "mtxnew=csr_matrix(mtx)\n",
    "print(floyd_warshall(mtxnew,return_predecessors=True))"
   ]
  },
  {
   "cell_type": "code",
   "execution_count": 33,
   "id": "25a26721-5d92-4bba-9c58-c870b5dd373c",
   "metadata": {},
   "outputs": [
    {
     "name": "stdout",
     "output_type": "stream",
     "text": [
      "(array([[ 0., -1.,  2.],\n",
      "       [ 1.,  0.,  3.],\n",
      "       [ 2.,  1.,  0.]]), array([[-9999,     0,     0],\n",
      "       [    1, -9999,     0],\n",
      "       [    2,     0, -9999]], dtype=int32))\n"
     ]
    }
   ],
   "source": [
    "# Bellman_ford() method: it is for finding the shortest path between all pairs of elements but this method can handle negative weights as well.\n",
    "import numpy as np\n",
    "from scipy.sparse.csgraph import bellman_ford\n",
    "from scipy.sparse import csr_matrix\n",
    "\n",
    "mtx=np.array([[0,-1,2],[1,0,0],[2,0,0]])\n",
    "mtxnew=csr_matrix(mtx)\n",
    "print(bellman_ford(mtxnew,return_predecessors=True))"
   ]
  },
  {
   "cell_type": "code",
   "execution_count": 34,
   "id": "98bf6902",
   "metadata": {},
   "outputs": [
    {
     "name": "stdout",
     "output_type": "stream",
     "text": [
      "(array([1, 0, 3, 2], dtype=int32), array([    1, -9999,     1,     0], dtype=int32))\n"
     ]
    }
   ],
   "source": [
    "# Depth first order: it returns a depth first traversal froma node: it has 2 arguments:the graph, starting element\n",
    "import numpy as np\n",
    "from scipy.sparse.csgraph import depth_first_order\n",
    "from scipy.sparse import csr_matrix\n",
    "\n",
    "mtx=np.array([[0,1,0,1],[1,1,1,1],[2,1,1,0],[0,1,0,1]])\n",
    "mtxnew=csr_matrix(mtx)\n",
    "print(depth_first_order(mtxnew,1))"
   ]
  },
  {
   "cell_type": "code",
   "execution_count": 35,
   "id": "14bb818d",
   "metadata": {},
   "outputs": [
    {
     "name": "stdout",
     "output_type": "stream",
     "text": [
      "(array([1, 0, 2, 3], dtype=int32), array([    1, -9999,     1,     1], dtype=int32))\n"
     ]
    }
   ],
   "source": [
    "# breadth first order() method: it returns the breadth from a node: it has 2 arguments:the graph, starting element\n",
    "import numpy as np\n",
    "from scipy.sparse.csgraph import breadth_first_order\n",
    "from scipy.sparse import csr_matrix\n",
    "\n",
    "mtx=np.array([[0,1,0,1],[1,1,1,1],[2,1,1,0],[0,1,0,1]])\n",
    "mtxnew=csr_matrix(mtx)\n",
    "print(breadth_first_order(mtxnew,1))"
   ]
  },
  {
   "cell_type": "code",
   "execution_count": null,
   "id": "5e3c3ed0",
   "metadata": {},
   "outputs": [],
   "source": []
  }
 ],
 "metadata": {
  "kernelspec": {
   "display_name": "myenv",
   "language": "python",
   "name": "python3"
  },
  "language_info": {
   "codemirror_mode": {
    "name": "ipython",
    "version": 3
   },
   "file_extension": ".py",
   "mimetype": "text/x-python",
   "name": "python",
   "nbconvert_exporter": "python",
   "pygments_lexer": "ipython3",
   "version": "3.13.2"
  }
 },
 "nbformat": 4,
 "nbformat_minor": 5
}
