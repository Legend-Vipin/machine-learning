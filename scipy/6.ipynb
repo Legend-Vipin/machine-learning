{
 "cells": [
  {
   "cell_type": "markdown",
   "id": "67d94b06",
   "metadata": {},
   "source": [
    "# Scipy Matlab Array"
   ]
  },
  {
   "cell_type": "code",
   "execution_count": 15,
   "id": "fae265a2",
   "metadata": {},
   "outputs": [
    {
     "name": "stdout",
     "output_type": "stream",
     "text": [
      "[0 1 2 3 4 5 6 7 8 9]\n"
     ]
    }
   ],
   "source": [
    "# Scipy matlab arrays: Exporting the data in Matlab format\n",
    "# for converting or export data we use savemat(). here we have 3 perameters: filename,mdict,do_compression\n",
    "# example : here now we will export the below array as variable name \"vec\" to matlab file.\n",
    "import numpy as np\n",
    "from scipy import io\n",
    "data = np.arange(10)\n",
    "io.savemat('data.mat',{\"vec\":data})\n",
    "\n",
    "# here now we will import the existing mat file. it have only 1 parameter that is filename.\n",
    "import scipy.io as io\n",
    "data = np.array([0,1,2,3,4,5,6,7,8,9])\n",
    "io.savemat('data.mat', {\"vec\": data})\n",
    "datanew= io.loadmat('data.mat', squeeze_me=True)\n",
    "print(datanew['vec'])\n"
   ]
  },
  {
   "cell_type": "code",
   "execution_count": null,
   "id": "45dd37b6",
   "metadata": {},
   "outputs": [],
   "source": []
  }
 ],
 "metadata": {
  "kernelspec": {
   "display_name": "myenv",
   "language": "python",
   "name": "python3"
  },
  "language_info": {
   "codemirror_mode": {
    "name": "ipython",
    "version": 3
   },
   "file_extension": ".py",
   "mimetype": "text/x-python",
   "name": "python",
   "nbconvert_exporter": "python",
   "pygments_lexer": "ipython3",
   "version": "3.13.2"
  }
 },
 "nbformat": 4,
 "nbformat_minor": 5
}
