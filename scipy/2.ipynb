{
 "cells": [
  {
   "cell_type": "markdown",
   "id": "abae6c68",
   "metadata": {},
   "source": [
    "# Optimizers"
   ]
  },
  {
   "cell_type": "code",
   "execution_count": 1,
   "id": "82b20b07",
   "metadata": {},
   "outputs": [
    {
     "name": "stdout",
     "output_type": "stream",
     "text": [
      "[-0.73908513]\n"
     ]
    },
    {
     "name": "stderr",
     "output_type": "stream",
     "text": [
      "/tmp/ipykernel_9249/903665615.py:9: DeprecationWarning: Conversion of an array with ndim > 0 to a scalar is deprecated, and will error in future. Ensure you extract a single element from your array before performing this operation. (Deprecated NumPy 1.25.)\n",
      "  return x + cos(x)\n"
     ]
    }
   ],
   "source": [
    "# 1. Optimizers in python: they are a set of procedures defined in scipy that either find the minimum value of a function or a root of an equation\n",
    "# 2. optimizing fuction: all the algorithm which helps in minimizing the data.\n",
    "# 3. Roots of an equation: x + y: 20+30,we will solve it via optimze.root function.\n",
    "# 4. this function takes 2 arguments: \"fun\" and \"x0\"\n",
    "# 5. example: here we will find the root of the equation x + cos(x)\n",
    "from scipy.optimize import root\n",
    "from math import cos\n",
    "def eqn(x):\n",
    "    return x + cos(x)\n",
    "myroot=root(eqn,0)\n",
    "print(myroot.x)"
   ]
  },
  {
   "cell_type": "code",
   "execution_count": null,
   "id": "1cbf76fd",
   "metadata": {},
   "outputs": [
    {
     "name": "stdout",
     "output_type": "stream",
     "text": [
      " message: The solution converged.\n",
      " success: True\n",
      "  status: 1\n",
      "     fun: [ 0.000e+00]\n",
      "       x: [-7.391e-01]\n",
      "  method: hybr\n",
      "    nfev: 11\n",
      "    fjac: [[-1.000e+00]]\n",
      "       r: [-1.674e+00]\n",
      "     qtf: [-2.668e-13]\n"
     ]
    }
   ],
   "source": [
    "# here we want the info about not just x but the whole root:\n",
    "from scipy.optimize import root\n",
    "import numpy as np\n",
    "\n",
    "def eqn(x):\n",
    "    return x + np.cos(x)\n",
    "myroot = root(eqn, 0)\n",
    "print(myroot)"
   ]
  },
  {
   "cell_type": "code",
   "execution_count": 9,
   "id": "85d0ec67",
   "metadata": {},
   "outputs": [
    {
     "name": "stdout",
     "output_type": "stream",
     "text": [
      "  message: Optimization terminated successfully.\n",
      "  success: True\n",
      "   status: 0\n",
      "      fun: -106232897.39088017\n",
      "        x: [-1.062e+08]\n",
      "      nit: 2\n",
      "      jac: [ 0.000e+00]\n",
      " hess_inv: [[ 5.214e+00]]\n",
      "     nfev: 42\n",
      "     njev: 21\n"
     ]
    }
   ],
   "source": [
    "# Minizing the function or Data:\n",
    "# high points are called maxima and low points are called minima\n",
    "# finding the Minima:\n",
    "# we use scipy.optimize(). It uses 3 arguments: \"function\", \"x0\" and \"method\":it also has some legal values :\"CG\", \"BFGS\", \"Newton-CG\", \"L-BFGS-B\"\n",
    "# , \"TNC\",\"COBYLA\",\"SLSQP\".\n",
    "# callback: function called after each iteration of optimizations.\n",
    "# Example of the above: in whihc we will mizimize the function: x^2+x_+2 with BFGS: \n",
    "\n",
    "from scipy.optimize import minimize\n",
    "\n",
    "def func(x):\n",
    "    return x**2 + x + 2\n",
    "mymin=minimize(eqn,0,method='BFGS')\n",
    "print(mymin)"
   ]
  },
  {
   "cell_type": "code",
   "execution_count": null,
   "id": "60352f03",
   "metadata": {},
   "outputs": [],
   "source": []
  }
 ],
 "metadata": {
  "kernelspec": {
   "display_name": "myenv",
   "language": "python",
   "name": "python3"
  },
  "language_info": {
   "codemirror_mode": {
    "name": "ipython",
    "version": 3
   },
   "file_extension": ".py",
   "mimetype": "text/x-python",
   "name": "python",
   "nbconvert_exporter": "python",
   "pygments_lexer": "ipython3",
   "version": "3.13.2"
  }
 },
 "nbformat": 4,
 "nbformat_minor": 5
}
